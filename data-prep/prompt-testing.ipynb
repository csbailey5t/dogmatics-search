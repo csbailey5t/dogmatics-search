{
 "cells": [
  {
   "cell_type": "code",
   "execution_count": null,
   "metadata": {},
   "outputs": [],
   "source": [
    "import os\n",
    "import comet_llm\n",
    "\n",
    "from dotenv import load_dotenv\n",
    "\n",
    "from llama_index.core.postprocessor import MetadataReplacementPostProcessor\n",
    "from llama_index.core.query_engine import RetrieverQueryEngine\n",
    "from llama_index.core.retrievers import VectorIndexRetriever\n",
    "from llama_index.core import VectorStoreIndex, PromptTemplate\n",
    "from llama_index.vector_stores.pinecone import PineconeVectorStore\n",
    "from llama_index.core.settings import Settings\n",
    "from llama_index.embeddings.openai import OpenAIEmbedding\n",
    "from llama_index.llms.cohere import Cohere\n",
    "\n",
    "from pinecone import Pinecone"
   ]
  },
  {
   "cell_type": "code",
   "execution_count": null,
   "metadata": {},
   "outputs": [],
   "source": [
    "load_dotenv()"
   ]
  },
  {
   "cell_type": "markdown",
   "metadata": {},
   "source": [
    "Code below for setting up the index and query engine follows that in the /backend app"
   ]
  },
  {
   "cell_type": "code",
   "execution_count": null,
   "metadata": {},
   "outputs": [],
   "source": [
    "def get_vector_index() -> VectorStoreIndex:\n",
    "    # Connect to the pinecone index\n",
    "    pc = Pinecone(api_key=os.getenv(\"PINECONE_API_KEY\"))\n",
    "    pc_index = pc.Index(os.getenv(\"PINECONE_INDEX_NAME\"))\n",
    "\n",
    "    # Create vector store from existing index\n",
    "    vector_store = PineconeVectorStore(pinecone_index=pc_index)\n",
    "    index = VectorStoreIndex.from_vector_store(vector_store=vector_store)\n",
    "\n",
    "    return index"
   ]
  },
  {
   "cell_type": "code",
   "execution_count": null,
   "metadata": {},
   "outputs": [],
   "source": [
    "def configure_llm() -> dict:\n",
    "    llm_model_name = os.getenv(\"LLM_MODEL_NAME\")\n",
    "    llm_api_key = os.getenv(\"COHERE_API_KEY\")\n",
    "\n",
    "    config = {\n",
    "        \"model\": llm_model_name,\n",
    "        \"api_key\": llm_api_key,\n",
    "    }\n",
    "\n",
    "    return config\n",
    "\n",
    "\n",
    "def configure_embedding_model() -> dict:\n",
    "    embed_model_name = os.getenv(\"EMBED_MODEL_NAME\")\n",
    "    embed_api_key = os.getenv(\"OPENAI_API_KEY\")\n",
    "    embed_dimensions = int(os.getenv(\"EMBED_DIMENSIONS\"))\n",
    "\n",
    "    config = {\n",
    "        \"model\": embed_model_name,\n",
    "        \"api_key\": embed_api_key,\n",
    "        \"dimensions\": embed_dimensions,\n",
    "    }\n",
    "\n",
    "    return config"
   ]
  },
  {
   "cell_type": "code",
   "execution_count": null,
   "metadata": {},
   "outputs": [],
   "source": [
    "def init_settings():\n",
    "    llm_config = configure_llm()\n",
    "    embed_config = configure_embedding_model()\n",
    "\n",
    "    Settings.llm = Cohere(**llm_config)\n",
    "    Settings.embed_model = OpenAIEmbedding(**embed_config)"
   ]
  },
  {
   "cell_type": "code",
   "execution_count": null,
   "metadata": {},
   "outputs": [],
   "source": [
    "init_settings()"
   ]
  },
  {
   "cell_type": "code",
   "execution_count": null,
   "metadata": {},
   "outputs": [],
   "source": [
    "index = get_vector_index()"
   ]
  },
  {
   "cell_type": "code",
   "execution_count": null,
   "metadata": {},
   "outputs": [],
   "source": [
    "retriever = VectorIndexRetriever(index=index, similarity_top_k=20)\n"
   ]
  },
  {
   "cell_type": "code",
   "execution_count": null,
   "metadata": {},
   "outputs": [],
   "source": [
    "template = (\n",
    "    \"You are a Protestant theologian, and a careful reader of theology. Context information is below. \\n\"\n",
    "    \"---------------------\\n\"\n",
    "    \"{context_str}\"\n",
    "    \"\\n---------------------\\n\"\n",
    "    \"Given just this information and no prior knowledge, please answer the question: {query_str}\\n\"\n",
    "    \"Provide reference citations from the context in your answer. If the provided context uses more than one volume from the Dogmatics, use at least two volumes in your answer.\"\n",
    ")"
   ]
  },
  {
   "cell_type": "code",
   "execution_count": null,
   "metadata": {},
   "outputs": [],
   "source": [
    "qa_template = PromptTemplate(template)"
   ]
  },
  {
   "cell_type": "code",
   "execution_count": null,
   "metadata": {},
   "outputs": [],
   "source": [
    "query_engine = RetrieverQueryEngine(\n",
    "    retriever=retriever,\n",
    "    node_postprocessors=[\n",
    "        MetadataReplacementPostProcessor(target_metadata_key=\"window\")\n",
    "    ],\n",
    ")"
   ]
  },
  {
   "cell_type": "code",
   "execution_count": null,
   "metadata": {},
   "outputs": [],
   "source": [
    "query_engine.get_prompts()"
   ]
  },
  {
   "cell_type": "code",
   "execution_count": null,
   "metadata": {},
   "outputs": [],
   "source": [
    "query_engine.update_prompts({\n",
    "    \"response_synthesizer:text_qa_template\": qa_template\n",
    "})"
   ]
  },
  {
   "cell_type": "code",
   "execution_count": null,
   "metadata": {},
   "outputs": [],
   "source": [
    "query_engine.get_prompts()"
   ]
  },
  {
   "cell_type": "code",
   "execution_count": null,
   "metadata": {},
   "outputs": [],
   "source": [
    "query = \"How does the threefold office of Jesus relate to his role in election?\""
   ]
  },
  {
   "cell_type": "code",
   "execution_count": null,
   "metadata": {},
   "outputs": [],
   "source": [
    "response = query_engine.query(query)"
   ]
  },
  {
   "cell_type": "code",
   "execution_count": null,
   "metadata": {},
   "outputs": [],
   "source": [
    "response.metadata"
   ]
  },
  {
   "cell_type": "code",
   "execution_count": null,
   "metadata": {},
   "outputs": [],
   "source": [
    "# Given the response.metadata, get the set of volumes in the response\n",
    "volumes_set = {metadata[\"volume\"] for metadata in response.metadata.values()}\n",
    "volumes = \" \".join(volumes_set)"
   ]
  },
  {
   "cell_type": "code",
   "execution_count": null,
   "metadata": {},
   "outputs": [],
   "source": [
    "response.response"
   ]
  },
  {
   "cell_type": "code",
   "execution_count": null,
   "metadata": {},
   "outputs": [],
   "source": [
    "comet_llm.log_prompt(\n",
    "    api_key=os.getenv(\"COMET_API_KEY\"),\n",
    "    project=\"barth\",\n",
    "    prompt=template,\n",
    "    prompt_template=template,\n",
    "    output=response.response,\n",
    "    prompt_template_variables={\"query\": query},\n",
    "    metadata={\n",
    "        \"volumes\": volumes\n",
    "    }\n",
    ")"
   ]
  },
  {
   "cell_type": "code",
   "execution_count": null,
   "metadata": {},
   "outputs": [],
   "source": []
  }
 ],
 "metadata": {
  "kernelspec": {
   "display_name": "dogmatics-search-uLFxJju2-py3.12",
   "language": "python",
   "name": "python3"
  },
  "language_info": {
   "codemirror_mode": {
    "name": "ipython",
    "version": 3
   },
   "file_extension": ".py",
   "mimetype": "text/x-python",
   "name": "python",
   "nbconvert_exporter": "python",
   "pygments_lexer": "ipython3",
   "version": "3.12.3"
  }
 },
 "nbformat": 4,
 "nbformat_minor": 2
}
