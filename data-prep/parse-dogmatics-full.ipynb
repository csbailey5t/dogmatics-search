{
 "cells": [
  {
   "cell_type": "code",
   "execution_count": null,
   "metadata": {},
   "outputs": [],
   "source": [
    "import glob\n",
    "import itertools\n",
    "import logging\n",
    "import pandas\n",
    "import xml.etree.ElementTree as ET\n",
    "\n",
    "from dataclasses import dataclass"
   ]
  },
  {
   "cell_type": "code",
   "execution_count": null,
   "metadata": {},
   "outputs": [],
   "source": [
    "# Configure logging\n",
    "logging.basicConfig(level=logging.INFO, format='%(asctime)s - %(levelname)s - %(message)s')"
   ]
  },
  {
   "cell_type": "code",
   "execution_count": null,
   "metadata": {},
   "outputs": [],
   "source": [
    "# Get list of all xml files from the data folder\n",
    "dirname = \"data/Dogmatics/ChurchDogmatics/\"\n",
    "file_pattern = \"*.xml\"\n",
    "xml_files: list[str] = glob.glob(f\"{dirname}{file_pattern}\")\n",
    "xml_files"
   ]
  },
  {
   "cell_type": "code",
   "execution_count": null,
   "metadata": {},
   "outputs": [],
   "source": [
    "@dataclass()\n",
    "class TextChunk:\n",
    "    text: str\n",
    "    excursus: bool\n",
    "    title: str\n",
    "    group: str\n",
    "    volume: str\n",
    "    date: str\n",
    "    biblScope: str\n",
    "    sectionhead = str"
   ]
  },
  {
   "cell_type": "code",
   "execution_count": null,
   "metadata": {},
   "outputs": [],
   "source": [
    "def get_metadata(root) -> dict:\n",
    "    metadata = {}\n",
    "    metadata[\"title\"] = root.find(\"./teiHeader/fileDesc/titleStmt/title\").text\n",
    "    metadata[\"source\"] = root.find('.//*[@type=\"source\"]').text\n",
    "    metadata[\"group\"] = root.find('.//*[@type=\"group\"]').text\n",
    "    metadata[\"volumefull\"] = root.find('.//*[@type=\"volumefull\"]').text\n",
    "    metadata[\"volumealt\"] = root.find('.//*[@type=\"volumealt\"]').text\n",
    "    metadata[\"date\"] = root.find(\"./teiHeader/fileDesc/sourceDesc/bibl/date\").text\n",
    "    metadata[\"biblScope\"] = root.find(\n",
    "        \"./teiHeader/fileDesc/sourceDesc/bibl/biblScope\"\n",
    "    ).text\n",
    "    return metadata"
   ]
  },
  {
   "cell_type": "code",
   "execution_count": null,
   "metadata": {},
   "outputs": [],
   "source": [
    "def get_paragraphs(root, metadata) -> list[TextChunk]:\n",
    "    paragraphs = []\n",
    "    for div in root.findall(\".//text/body/div\"):\n",
    "        # Skip the abstract\n",
    "        if div.get(\"type\") == \"abstract\":\n",
    "            continue\n",
    "        else:\n",
    "            # Check if the paragraph is an excursus\n",
    "            if div.get(\"type\") == \"excursus\":\n",
    "                excursus = True\n",
    "            else:\n",
    "                excursus = False\n",
    "            for p in div.findall(\"p\"):\n",
    "                paragraphs.append(\n",
    "                    TextChunk(\n",
    "                        text=p.text,\n",
    "                        excursus=excursus,\n",
    "                        title=metadata[\"title\"],\n",
    "                        group=metadata[\"group\"],\n",
    "                        volume=metadata[\"volumefull\"],\n",
    "                        date=metadata[\"date\"],\n",
    "                        biblScope=metadata[\"biblScope\"],\n",
    "                        # sectionhead=metadata[\"sectionhead\"],\n",
    "                    )\n",
    "                )\n",
    "    return paragraphs"
   ]
  },
  {
   "cell_type": "code",
   "execution_count": null,
   "metadata": {},
   "outputs": [],
   "source": [
    "def parse_doc(fn):\n",
    "    # Get xml tree, and extract metadata and content\n",
    "    try:\n",
    "        tree = ET.parse(fn)\n",
    "        root = tree.getroot()\n",
    "\n",
    "        # Log the filename being processed\n",
    "        logging.info(f\"Processing file: {fn}\")\n",
    "\n",
    "        metadata = get_metadata(root)\n",
    "        paragraphs = get_paragraphs(root, metadata)\n",
    "        return [vars(p) for p in paragraphs]\n",
    "     \n",
    "    except ET.ParseError as e:\n",
    "        # Log any parsing errors\n",
    "        logging.error(f\"Error parsing file: {fn}\")\n",
    "        logging.error(str(e))\n",
    "\n",
    "    except Exception as e:\n",
    "        # Log any other exceptions\n",
    "        logging.error(f\"Error processing file: {fn}\")\n",
    "        logging.error(str(e))"
   ]
  },
  {
   "cell_type": "code",
   "execution_count": null,
   "metadata": {},
   "outputs": [],
   "source": [
    "# Iterate over xml filenames and parse each file\n",
    "data = [parse_doc(fn) for fn in xml_files]\n",
    "data[0]"
   ]
  },
  {
   "cell_type": "code",
   "execution_count": null,
   "metadata": {},
   "outputs": [],
   "source": [
    "filtered_data = [doc for doc in data if doc is not None]\n",
    "combined_data = list(itertools.chain(*filtered_data))\n",
    "len(combined_data)"
   ]
  },
  {
   "cell_type": "code",
   "execution_count": null,
   "metadata": {},
   "outputs": [],
   "source": [
    "combined_data[0]"
   ]
  },
  {
   "cell_type": "code",
   "execution_count": null,
   "metadata": {},
   "outputs": [],
   "source": [
    "# Create a pandas dataframe from the combined data\n",
    "df = pandas.DataFrame(combined_data)\n",
    "df"
   ]
  },
  {
   "cell_type": "code",
   "execution_count": null,
   "metadata": {},
   "outputs": [],
   "source": [
    "df.to_parquet(\"dogmatics-text-w-meta.parquet\", index=False)"
   ]
  },
  {
   "cell_type": "code",
   "execution_count": null,
   "metadata": {},
   "outputs": [],
   "source": [
    "# Count the number of documents in each volume\n",
    "df[\"volume\"].value_counts()"
   ]
  },
  {
   "cell_type": "code",
   "execution_count": null,
   "metadata": {},
   "outputs": [],
   "source": [
    "# Average text length over all docs\n",
    "avg_text_length = df[\"text\"].str.len().mean()\n",
    "avg_text_length"
   ]
  },
  {
   "cell_type": "code",
   "execution_count": null,
   "metadata": {},
   "outputs": [],
   "source": [
    "# Check titles for variations on Editors' preface\n",
    "contains_editor = df[df[\"title\"].str.contains(\"Editor\", case=False)]\n",
    "contains_editor[\"title\"].value_counts()"
   ]
  },
  {
   "cell_type": "code",
   "execution_count": null,
   "metadata": {},
   "outputs": [],
   "source": [
    "# Remove \"Editors' preface\" based on title, and recount docs\n",
    "df_no_editors = df[df[\"title\"] != \"Editors' Preface\"]\n",
    "avg_text_length = df_no_editors[\"text\"].str.len().mean()\n",
    "avg_text_length\n"
   ]
  },
  {
   "cell_type": "code",
   "execution_count": null,
   "metadata": {},
   "outputs": [],
   "source": [
    "# Write final data, without \"Editors' Preface\"s to parquet\n",
    "df_no_editors.to_parquet(\"dogmatics-text-w-meta-no-editors.parquet\", index=False)"
   ]
  },
  {
   "cell_type": "code",
   "execution_count": null,
   "metadata": {},
   "outputs": [],
   "source": []
  }
 ],
 "metadata": {
  "kernelspec": {
   "display_name": "dogmatics-search-uLFxJju2-py3.12",
   "language": "python",
   "name": "python3"
  },
  "language_info": {
   "codemirror_mode": {
    "name": "ipython",
    "version": 3
   },
   "file_extension": ".py",
   "mimetype": "text/x-python",
   "name": "python",
   "nbconvert_exporter": "python",
   "pygments_lexer": "ipython3",
   "version": "3.12.3"
  }
 },
 "nbformat": 4,
 "nbformat_minor": 2
}
