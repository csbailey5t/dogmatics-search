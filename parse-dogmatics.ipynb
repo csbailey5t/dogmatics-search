{
 "cells": [
  {
   "cell_type": "code",
   "execution_count": 2,
   "metadata": {},
   "outputs": [],
   "source": [
    "import xml.etree.ElementTree as ET\n",
    "import pandas as pd"
   ]
  },
  {
   "cell_type": "code",
   "execution_count": 3,
   "metadata": {},
   "outputs": [],
   "source": [
    "tree = ET.parse('Dogmatics/Church Dogmatics/CD0403007v3.xml')\n",
    "root = tree.getroot()"
   ]
  },
  {
   "cell_type": "code",
   "execution_count": 26,
   "metadata": {},
   "outputs": [],
   "source": [
    "metadata = {}\n",
    "metadata[\"title\"] = root.find(\"./teiHeader/fileDesc/titleStmt/title\").text\n",
    "metadata[\"source\"] = root.find('.//*[@type=\"source\"]').text\n",
    "metadata[\"group\"] = root.find('.//*[@type=\"group\"]').text\n",
    "metadata[\"volumefull\"] = root.find('.//*[@type=\"volumefull\"]').text\n",
    "metadata[\"volumealt\"] = root.find('.//*[@type=\"volumealt\"]').text\n",
    "metadata[\"date\"] = root.find(\"./teiHeader/fileDesc/sourceDesc/bibl/date\").text\n",
    "metadata[\"biblScope\"] = root.find(\"./teiHeader/fileDesc/sourceDesc/bibl/biblScope\").text"
   ]
  },
  {
   "cell_type": "code",
   "execution_count": 27,
   "metadata": {},
   "outputs": [
    {
     "data": {
      "text/plain": [
       "{'title': '§ 73 The Holy Spirit and Christian Hope',\n",
       " 'source': 'The Church Dogmatics',\n",
       " 'group': 'The Doctrine of Reconciliation',\n",
       " 'volumefull': 'Volume IV,3 (§§ 69–73)',\n",
       " 'volumealt': 'CD Volume IV,3 (§§ 69–73)',\n",
       " 'date': '1962',\n",
       " 'biblScope': 'Pp. 902–942'}"
      ]
     },
     "execution_count": 27,
     "metadata": {},
     "output_type": "execute_result"
    }
   ],
   "source": [
    "metadata"
   ]
  },
  {
   "cell_type": "code",
   "execution_count": null,
   "metadata": {},
   "outputs": [],
   "source": []
  }
 ],
 "metadata": {
  "kernelspec": {
   "display_name": "dogmatics-search-2AX-uJ9p-py3.12",
   "language": "python",
   "name": "python3"
  },
  "language_info": {
   "codemirror_mode": {
    "name": "ipython",
    "version": 3
   },
   "file_extension": ".py",
   "mimetype": "text/x-python",
   "name": "python",
   "nbconvert_exporter": "python",
   "pygments_lexer": "ipython3",
   "version": "3.12.2"
  }
 },
 "nbformat": 4,
 "nbformat_minor": 2
}
