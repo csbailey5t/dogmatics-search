{
 "cells": [
  {
   "cell_type": "code",
   "execution_count": null,
   "metadata": {},
   "outputs": [],
   "source": [
    "import xml.etree.ElementTree as ET\n",
    "import pandas as pd"
   ]
  },
  {
   "cell_type": "code",
   "execution_count": null,
   "metadata": {},
   "outputs": [],
   "source": [
    "tree = ET.parse('Dogmatics/Church Dogmatics/CD0403007v3.xml')\n",
    "root = tree.getroot()"
   ]
  },
  {
   "cell_type": "code",
   "execution_count": null,
   "metadata": {},
   "outputs": [],
   "source": [
    "metadata = {}\n",
    "metadata[\"title\"] = root.find(\"./teiHeader/fileDesc/titleStmt/title\").text\n",
    "metadata[\"source\"] = root.find('.//*[@type=\"source\"]').text\n",
    "metadata[\"group\"] = root.find('.//*[@type=\"group\"]').text\n",
    "metadata[\"volumefull\"] = root.find('.//*[@type=\"volumefull\"]').text\n",
    "metadata[\"volumealt\"] = root.find('.//*[@type=\"volumealt\"]').text\n",
    "metadata[\"date\"] = root.find(\"./teiHeader/fileDesc/sourceDesc/bibl/date\").text\n",
    "metadata[\"biblScope\"] = root.find(\"./teiHeader/fileDesc/sourceDesc/bibl/biblScope\").text"
   ]
  },
  {
   "cell_type": "code",
   "execution_count": null,
   "metadata": {},
   "outputs": [],
   "source": [
    "metadata"
   ]
  },
  {
   "cell_type": "code",
   "execution_count": null,
   "metadata": {},
   "outputs": [],
   "source": [
    "section_head = root.find(\"./text/body/head\").text\n",
    "section_head"
   ]
  },
  {
   "cell_type": "code",
   "execution_count": null,
   "metadata": {},
   "outputs": [],
   "source": [
    "abstract = root.find('.//text/body/div[@type=\"abstract\"]/p/hi').text\n",
    "abstract"
   ]
  },
  {
   "cell_type": "code",
   "execution_count": null,
   "metadata": {},
   "outputs": [],
   "source": [
    "from dataclasses import dataclass\n",
    "\n",
    "\n",
    "@dataclass()\n",
    "class TextChunk:\n",
    "    text: str\n",
    "    excursus: bool"
   ]
  },
  {
   "cell_type": "code",
   "execution_count": null,
   "metadata": {},
   "outputs": [],
   "source": [
    "paragraphs = []\n",
    "for div in root.findall(\".//text/body/div\")[:3]:\n",
    "    if div.get(\"type\") == \"abstract\":\n",
    "        continue\n",
    "    else:\n",
    "        if div.get(\"type\") == \"excursus\":\n",
    "            excursus = True\n",
    "        else:\n",
    "            excursus = False\n",
    "        for p in div.findall(\"p\"):\n",
    "            paragraphs.append(TextChunk(p.text, excursus))"
   ]
  },
  {
   "cell_type": "code",
   "execution_count": null,
   "metadata": {},
   "outputs": [],
   "source": [
    "data = [vars(paragraph) for paragraph in paragraphs]\n",
    "df = pd.DataFrame(data)\n",
    "df"
   ]
  },
  {
   "cell_type": "code",
   "execution_count": null,
   "metadata": {},
   "outputs": [],
   "source": []
  }
 ],
 "metadata": {
  "kernelspec": {
   "display_name": "dogmatics-search-2AX-uJ9p-py3.12",
   "language": "python",
   "name": "python3"
  },
  "language_info": {
   "codemirror_mode": {
    "name": "ipython",
    "version": 3
   },
   "file_extension": ".py",
   "mimetype": "text/x-python",
   "name": "python",
   "nbconvert_exporter": "python",
   "pygments_lexer": "ipython3",
   "version": "3.12.2"
  }
 },
 "nbformat": 4,
 "nbformat_minor": 2
}
